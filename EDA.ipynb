{
 "cells": [
  {
   "cell_type": "markdown",
   "metadata": {},
   "source": [
    "**ANÁLISIS EXPLORATORIO DE DATOS**"
   ]
  },
  {
   "cell_type": "code",
   "execution_count": null,
   "metadata": {},
   "outputs": [],
   "source": [
    "import pandas as pd  "
   ]
  },
  {
   "cell_type": "code",
   "execution_count": null,
   "metadata": {},
   "outputs": [],
   "source": [
    "!pip install xlrd==2.0.1"
   ]
  },
  {
   "cell_type": "code",
   "execution_count": null,
   "metadata": {},
   "outputs": [],
   "source": [
    "# Lee el archivo Excel\n",
    "archivo_excel = 'D:/backups/phising 2.0/data science/dataset5 CLUB v2.0.xls'\n",
    "\n",
    "# Leer todas las hojas del archivo Excel\n",
    "hojas = pd.read_excel(archivo_excel, sheet_name=None)\n",
    "\n",
    "# Si solo quieres las primeras dos hojas, puedes seleccionarlas por nombre o índice\n",
    "df_sheet1 = hojas[list(hojas.keys())[0]]  # Primer sheet\n",
    "df_sheet2 = hojas[list(hojas.keys())[1]]  # Segundo sheet\n",
    "\n",
    "df = pd.concat([df_sheet1, df_sheet2], axis=0, ignore_index=True)"
   ]
  },
  {
   "cell_type": "code",
   "execution_count": 4,
   "metadata": {},
   "outputs": [],
   "source": [
    "pd.set_option('display.max_columns', None)"
   ]
  },
  {
   "cell_type": "code",
   "execution_count": null,
   "metadata": {},
   "outputs": [],
   "source": [
    "df"
   ]
  },
  {
   "cell_type": "code",
   "execution_count": 5,
   "metadata": {},
   "outputs": [],
   "source": [
    "df = df.drop(columns=['SECUENCIALPRESTAMO', 'IDCLIENTE', 'TEACONSEGURO_1', 'INGRESOSANUALES_1'])"
   ]
  },
  {
   "cell_type": "code",
   "execution_count": null,
   "metadata": {},
   "outputs": [],
   "source": [
    "df"
   ]
  },
  {
   "cell_type": "code",
   "execution_count": 4,
   "metadata": {},
   "outputs": [
    {
     "data": {
      "text/plain": [
       "DataTransformerRegistry.enable('default')"
      ]
     },
     "execution_count": 4,
     "metadata": {},
     "output_type": "execute_result"
    }
   ],
   "source": [
    "import altair as alt\n",
    "alt.data_transformers.disable_max_rows()"
   ]
  },
  {
   "cell_type": "code",
   "execution_count": null,
   "metadata": {},
   "outputs": [],
   "source": [
    "# 1. Distribución de la variable objetivo SCORE\n",
    "chart1 = alt.Chart(df).mark_bar().encode(\n",
    "    x=alt.X('SCORE', bin=True, title='Distribución de SCORE'),\n",
    "    y=alt.Y('count()', title='Frecuencia')\n",
    ").properties(title='Distribución de la Variable SCORE')\n",
    "\n",
    "chart1"
   ]
  },
  {
   "cell_type": "code",
   "execution_count": null,
   "metadata": {},
   "outputs": [],
   "source": [
    "# 2. Relación entre INGRESOSANUALES y EGRESOSANUALES\n",
    "chart2 = alt.Chart(df).mark_circle(size=60).encode(\n",
    "    x=alt.X('INGRESOSANUALES', title='Ingresos Anuales'),\n",
    "    y=alt.Y('EGRESOSANUALES', title='Egresos Anuales'),\n",
    "    color='SCORE',\n",
    "    tooltip=['INGRESOSANUALES', 'EGRESOSANUALES', 'SCORE']\n",
    ").properties(title='Relación entre Ingresos y Egresos Anuales')\n",
    "\n",
    "chart2"
   ]
  },
  {
   "cell_type": "code",
   "execution_count": null,
   "metadata": {},
   "outputs": [],
   "source": [
    "# 3. Distribución de EDAD por ESTADOCIVIL\n",
    "chart3 = alt.Chart(df).mark_boxplot().encode(\n",
    "    x=alt.X('ESTADOCIVIL', title='Estado Civil'),\n",
    "    y=alt.Y('EDAD', title='Edad'),\n",
    "    color='ESTADOCIVIL'\n",
    ").properties(title='Distribución de Edad por Estado Civil')\n",
    "\n",
    "chart3"
   ]
  },
  {
   "cell_type": "code",
   "execution_count": null,
   "metadata": {},
   "outputs": [],
   "source": [
    "# 4. Relación entre ACTIVOSTOTALES y PASIVOSTOTALES\n",
    "chart4 = alt.Chart(df).mark_circle(size=60).encode(\n",
    "    x=alt.X('ACTIVOSTOTALES', title='Activos Totales'),\n",
    "    y=alt.Y('PASIVOSTOTALES', title='Pasivos Totales'),\n",
    "    color='SCORE',\n",
    "    tooltip=['ACTIVOSTOTALES', 'PASIVOSTOTALES', 'SCORE']\n",
    ").properties(title='Relación entre Activos y Pasivos Totales')\n",
    "\n",
    "chart4"
   ]
  },
  {
   "cell_type": "code",
   "execution_count": null,
   "metadata": {},
   "outputs": [],
   "source": [
    "# 5. Distribución de DESTINOCREDITO\n",
    "chart5 = alt.Chart(df).mark_bar().encode(\n",
    "    x=alt.X('DESTINOCREDITO', title='Destino del Crédito'),\n",
    "    y=alt.Y('count()', title='Frecuencia'),\n",
    "    color='DESTINOCREDITO'\n",
    ").properties(title='Distribución de Destino del Crédito')\n",
    "\n",
    "chart5"
   ]
  },
  {
   "cell_type": "code",
   "execution_count": null,
   "metadata": {},
   "outputs": [],
   "source": [
    "# 6. Relación entre CUOTASTOTALESVIGENTES y NUMPRESTVIGENTES\n",
    "chart6 = alt.Chart(df).mark_circle(size=60).encode(\n",
    "    x=alt.X('CUOTASTOTALESVIGENTES', title='Cuotas Totales Vigentes'),\n",
    "    y=alt.Y('NUMPRESTVIGENTES', title='Número de Préstamos Vigentes'),\n",
    "    color='SCORE',\n",
    "    tooltip=['CUOTASTOTALESVIGENTES', 'NUMPRESTVIGENTES', 'SCORE']\n",
    ").properties(title='Relación entre Cuotas Vigentes y Número de Préstamos')\n",
    "\n",
    "chart6"
   ]
  },
  {
   "cell_type": "code",
   "execution_count": null,
   "metadata": {},
   "outputs": [],
   "source": [
    "# 7. Correlación entre TASAINTERES y DIASMOROSIDAD\n",
    "chart7 = alt.Chart(df).mark_circle(size=60).encode(\n",
    "    x=alt.X('TASAINTERES', title='Tasa de Interés'),\n",
    "    y=alt.Y('DIASMOROSIDAD', title='Días de Morosidad'),\n",
    "    color='SCORE',\n",
    "    tooltip=['TASAINTERES', 'DIASMOROSIDAD', 'SCORE']\n",
    ").properties(title='Relación entre Tasa de Interés y Días de Morosidad')\n",
    "\n",
    "chart7"
   ]
  },
  {
   "cell_type": "code",
   "execution_count": null,
   "metadata": {},
   "outputs": [],
   "source": [
    "# 8. Distribución de CALIFICACIONACTUALPRESTAMO\n",
    "chart8 = alt.Chart(df).mark_bar().encode(\n",
    "    x=alt.X('CALIFICACIONACTUALPRESTAMO', title='Calificación Actual del Préstamo'),\n",
    "    y=alt.Y('count()', title='Frecuencia'),\n",
    "    color='CALIFICACIONACTUALPRESTAMO'\n",
    ").properties(title='Distribución de la Calificación Actual del Préstamo')\n",
    "\n",
    "chart8"
   ]
  },
  {
   "cell_type": "code",
   "execution_count": null,
   "metadata": {},
   "outputs": [],
   "source": [
    "# 9. Comparación de INGRESOSANUALES entre SEXO\n",
    "chart9 = alt.Chart(df).mark_boxplot().encode(\n",
    "    x=alt.X('SEXO', title='Sexo'),\n",
    "    y=alt.Y('INGRESOSANUALES', title='Ingresos Anuales'),\n",
    "    color='SEXO'\n",
    ").properties(title='Ingresos Anuales por Sexo')\n",
    "\n",
    "chart9"
   ]
  },
  {
   "cell_type": "code",
   "execution_count": null,
   "metadata": {},
   "outputs": [],
   "source": [
    "# 10. Relación entre EDAD y MONTOPRESTAMO\n",
    "chart10 = alt.Chart(df).mark_circle(size=60).encode(\n",
    "    x=alt.X('EDAD', title='Edad'),\n",
    "    y=alt.Y('MONTOPRESTAMO', title='Monto del Préstamo'),\n",
    "    color='SCORE',\n",
    "    tooltip=['EDAD', 'MONTOPRESTAMO', 'SCORE']\n",
    ").properties(title='Relación entre Edad y Monto del Préstamo')\n",
    "\n",
    "chart10"
   ]
  },
  {
   "cell_type": "code",
   "execution_count": null,
   "metadata": {},
   "outputs": [],
   "source": [
    "# 11. Relación entre SCORE y ACTIVOSTOTALES\n",
    "chart1 = alt.Chart(df).mark_circle(size=60).encode(\n",
    "    x=alt.X('ACTIVOSTOTALES', title='Activos Totales'),\n",
    "    y=alt.Y('SCORE', title='SCORE'),\n",
    "    color=alt.Color('SCORE', scale=alt.Scale(scheme='blues')),\n",
    "    tooltip=['ACTIVOSTOTALES', 'SCORE']\n",
    ").properties(title='Relación entre SCORE y ACTIVOSTOTALES')\n",
    "\n",
    "chart1"
   ]
  },
  {
   "cell_type": "code",
   "execution_count": null,
   "metadata": {},
   "outputs": [],
   "source": [
    "# 12. Relación entre SCORE y PASIVOSTOTALES\n",
    "chart2 = alt.Chart(df).mark_circle(size=60).encode(\n",
    "    x=alt.X('PASIVOSTOTALES', title='Pasivos Totales'),\n",
    "    y=alt.Y('SCORE', title='SCORE'),\n",
    "    color=alt.Color('SCORE', scale=alt.Scale(scheme='reds')),\n",
    "    tooltip=['PASIVOSTOTALES', 'SCORE']\n",
    ").properties(title='Relación entre SCORE y PASIVOSTOTALES')\n",
    "\n",
    "chart2"
   ]
  },
  {
   "cell_type": "code",
   "execution_count": null,
   "metadata": {},
   "outputs": [],
   "source": [
    "# 13. Relación entre SCORE y INGRESOSANUALES\n",
    "chart3 = alt.Chart(df).mark_circle(size=60).encode(\n",
    "    x=alt.X('INGRESOSANUALES', title='Ingresos Anuales'),\n",
    "    y=alt.Y('SCORE', title='SCORE'),\n",
    "    color=alt.Color('SCORE', scale=alt.Scale(scheme='greens')),\n",
    "    tooltip=['INGRESOSANUALES', 'SCORE']\n",
    ").properties(title='Relación entre SCORE y INGRESOSANUALES')\n",
    "\n",
    "chart3"
   ]
  },
  {
   "cell_type": "code",
   "execution_count": null,
   "metadata": {},
   "outputs": [],
   "source": [
    "# 14. Relación entre SCORE y EGRESOSANUALES\n",
    "chart4 = alt.Chart(df).mark_circle(size=60).encode(\n",
    "    x=alt.X('EGRESOSANUALES', title='Egresos Anuales'),\n",
    "    y=alt.Y('SCORE', title='SCORE'),\n",
    "    color=alt.Color('SCORE', scale=alt.Scale(scheme='purples')),\n",
    "    tooltip=['EGRESOSANUALES', 'SCORE']\n",
    ").properties(title='Relación entre SCORE y EGRESOSANUALES')\n",
    "chart4"
   ]
  },
  {
   "cell_type": "code",
   "execution_count": null,
   "metadata": {},
   "outputs": [],
   "source": [
    "# 15. Relación entre SCORE y EDAD\n",
    "chart5 = alt.Chart(df).mark_circle(size=60).encode(\n",
    "    x=alt.X('EDAD', title='Edad'),\n",
    "    y=alt.Y('SCORE', title='SCORE'),\n",
    "    color=alt.Color('SCORE', scale=alt.Scale(scheme='purples')),\n",
    "    tooltip=['EDAD', 'SCORE']\n",
    ").properties(title='Relación entre SCORE y EDAD')\n",
    "\n",
    "chart5"
   ]
  },
  {
   "cell_type": "code",
   "execution_count": null,
   "metadata": {},
   "outputs": [],
   "source": [
    "# 16. Distribución de SCORE por SEXO\n",
    "chart6 = alt.Chart(df).mark_boxplot().encode(\n",
    "    x=alt.X('SEXO:N', title='Sexo'),\n",
    "    y=alt.Y('SCORE', title='SCORE'),\n",
    "    color='SEXO:N'\n",
    ").properties(title='Distribución de SCORE por Sexo')\n",
    "\n",
    "chart6"
   ]
  },
  {
   "cell_type": "code",
   "execution_count": null,
   "metadata": {},
   "outputs": [],
   "source": [
    "# 17. Relación entre SCORE y MONTOPRESTAMO\n",
    "chart7 = alt.Chart(df).mark_circle(size=60).encode(\n",
    "    x=alt.X('MONTOPRESTAMO', title='Monto Préstamo'),\n",
    "    y=alt.Y('SCORE', title='SCORE'),\n",
    "    color=alt.Color('SCORE', scale=alt.Scale(scheme='blueorange')),\n",
    "    tooltip=['MONTOPRESTAMO', 'SCORE']\n",
    ").properties(title='Relación entre SCORE y Monto del Préstamo')\n",
    "\n",
    "chart7"
   ]
  },
  {
   "cell_type": "code",
   "execution_count": null,
   "metadata": {},
   "outputs": [],
   "source": [
    "# 18. Relación entre SCORE y DIASMOROSIDAD\n",
    "chart8 = alt.Chart(df).mark_circle(size=60).encode(\n",
    "    x=alt.X('DIASMOROSIDAD', title='Días de Morosidad'),\n",
    "    y=alt.Y('SCORE', title='SCORE'),\n",
    "    color=alt.Color('SCORE', scale=alt.Scale(scheme='tealblues')),\n",
    "    tooltip=['DIASMOROSIDAD', 'SCORE']\n",
    ").properties(title='Relación entre SCORE y Días de Morosidad')\n",
    "\n",
    "chart8"
   ]
  },
  {
   "cell_type": "code",
   "execution_count": null,
   "metadata": {},
   "outputs": [],
   "source": [
    "# 19. Relación entre SCORE y TASAINTERES\n",
    "chart9 = alt.Chart(df).mark_circle(size=60).encode(\n",
    "    x=alt.X('TASAINTERES', title='Tasa de Interés'),\n",
    "    y=alt.Y('SCORE', title='SCORE'),\n",
    "    color=alt.Color('SCORE', scale=alt.Scale(scheme='viridis')),\n",
    "    tooltip=['TASAINTERES', 'SCORE']\n",
    ").properties(title='Relación entre SCORE y Tasa de Interés')\n",
    "chart9"
   ]
  },
  {
   "cell_type": "code",
   "execution_count": null,
   "metadata": {},
   "outputs": [],
   "source": [
    "# 20. Distribución de SCORE por ESTADOCIVIL\n",
    "chart10 = alt.Chart(df).mark_boxplot().encode(\n",
    "    x=alt.X('ESTADOCIVIL:N', title='Estado Civil'),\n",
    "    y=alt.Y('SCORE', title='SCORE'),\n",
    "    color='ESTADOCIVIL:N'\n",
    ").properties(title='Distribución de SCORE por Estado Civil')\n",
    "\n",
    "chart10"
   ]
  },
  {
   "cell_type": "code",
   "execution_count": null,
   "metadata": {},
   "outputs": [
    {
     "data": {
      "text/html": [
       "\n",
       "<style>\n",
       "  #altair-viz-068de17805774432a318d11d06214971.vega-embed {\n",
       "    width: 100%;\n",
       "    display: flex;\n",
       "  }\n",
       "\n",
       "  #altair-viz-068de17805774432a318d11d06214971.vega-embed details,\n",
       "  #altair-viz-068de17805774432a318d11d06214971.vega-embed details summary {\n",
       "    position: relative;\n",
       "  }\n",
       "</style>\n",
       "<div id=\"altair-viz-068de17805774432a318d11d06214971\"></div>\n",
       "<script type=\"text/javascript\">\n",
       "  var VEGA_DEBUG = (typeof VEGA_DEBUG == \"undefined\") ? {} : VEGA_DEBUG;\n",
       "  (function(spec, embedOpt){\n",
       "    let outputDiv = document.currentScript.previousElementSibling;\n",
       "    if (outputDiv.id !== \"altair-viz-068de17805774432a318d11d06214971\") {\n",
       "      outputDiv = document.getElementById(\"altair-viz-068de17805774432a318d11d06214971\");\n",
       "    }\n",
       "    const paths = {\n",
       "      \"vega\": \"https://cdn.jsdelivr.net/npm/vega@5?noext\",\n",
       "      \"vega-lib\": \"https://cdn.jsdelivr.net/npm/vega-lib?noext\",\n",
       "      \"vega-lite\": \"https://cdn.jsdelivr.net/npm/vega-lite@5.20.1?noext\",\n",
       "      \"vega-embed\": \"https://cdn.jsdelivr.net/npm/vega-embed@6?noext\",\n",
       "    };\n",
       "\n",
       "    function maybeLoadScript(lib, version) {\n",
       "      var key = `${lib.replace(\"-\", \"\")}_version`;\n",
       "      return (VEGA_DEBUG[key] == version) ?\n",
       "        Promise.resolve(paths[lib]) :\n",
       "        new Promise(function(resolve, reject) {\n",
       "          var s = document.createElement('script');\n",
       "          document.getElementsByTagName(\"head\")[0].appendChild(s);\n",
       "          s.async = true;\n",
       "          s.onload = () => {\n",
       "            VEGA_DEBUG[key] = version;\n",
       "            return resolve(paths[lib]);\n",
       "          };\n",
       "          s.onerror = () => reject(`Error loading script: ${paths[lib]}`);\n",
       "          s.src = paths[lib];\n",
       "        });\n",
       "    }\n",
       "\n",
       "    function showError(err) {\n",
       "      outputDiv.innerHTML = `<div class=\"error\" style=\"color:red;\">${err}</div>`;\n",
       "      throw err;\n",
       "    }\n",
       "\n",
       "    function displayChart(vegaEmbed) {\n",
       "      vegaEmbed(outputDiv, spec, embedOpt)\n",
       "        .catch(err => showError(`Javascript Error: ${err.message}<br>This usually means there's a typo in your chart specification. See the javascript console for the full traceback.`));\n",
       "    }\n",
       "\n",
       "    if(typeof define === \"function\" && define.amd) {\n",
       "      requirejs.config({paths});\n",
       "      require([\"vega-embed\"], displayChart, err => showError(`Error loading script: ${err.message}`));\n",
       "    } else {\n",
       "      maybeLoadScript(\"vega\", \"5\")\n",
       "        .then(() => maybeLoadScript(\"vega-lite\", \"5.20.1\"))\n",
       "        .then(() => maybeLoadScript(\"vega-embed\", \"6\"))\n",
       "        .catch(showError)\n",
       "        .then(() => displayChart(vegaEmbed));\n",
       "    }\n",
       "  })({\"config\": {\"view\": {\"continuousWidth\": 300, \"continuousHeight\": 300}}, \"data\": {\"name\": \"data-bdb810cd5c709ae7d70a596dc85d2fba\"}, \"mark\": {\"type\": \"rect\"}, \"encoding\": {\"color\": {\"field\": \"Correlation\", \"scale\": {\"scheme\": \"viridis\"}, \"title\": \"Correlaci\\u00f3n\", \"type\": \"quantitative\"}, \"tooltip\": [{\"field\": \"Variable1\", \"type\": \"nominal\"}, {\"field\": \"Variable2\", \"type\": \"nominal\"}, {\"field\": \"Correlation\", \"type\": \"quantitative\"}], \"x\": {\"field\": \"Variable1\", \"sort\": [\"SCORE\", \"ACTIVOSTOTALES\", \"PASIVOSTOTALES\", \"INGRESOSANUALES\", \"EGRESOSANUALES\", \"CARGASFAMILIARES\", \"EDAD\", \"AHORROS\", \"DPFS\", \"DEUDASVIGENTES\", \"CUOTASTOTALESVIGENTES\", \"NUMPRESTVIGENTES\", \"MONTOPRESTAMO\", \"SALDOPRESTAMO\", \"NUMEROCUOTAS\", \"TEACONSEGURO\", \"TASAINTERES\", \"VALORPROMEDIOCUOTA\", \"DIASMOROSIDAD\", \"NUMPRESTMORA\", \"ANIOSTRABAJO\"], \"title\": null, \"type\": \"ordinal\"}, \"y\": {\"field\": \"Variable2\", \"sort\": [\"SCORE\", \"ACTIVOSTOTALES\", \"PASIVOSTOTALES\", \"INGRESOSANUALES\", \"EGRESOSANUALES\", \"CARGASFAMILIARES\", \"EDAD\", \"AHORROS\", \"DPFS\", \"DEUDASVIGENTES\", \"CUOTASTOTALESVIGENTES\", \"NUMPRESTVIGENTES\", \"MONTOPRESTAMO\", \"SALDOPRESTAMO\", \"NUMEROCUOTAS\", \"TEACONSEGURO\", \"TASAINTERES\", \"VALORPROMEDIOCUOTA\", \"DIASMOROSIDAD\", \"NUMPRESTMORA\", \"ANIOSTRABAJO\"], \"title\": null, \"type\": \"ordinal\"}}, \"height\": 600, \"title\": \"Matriz de Correlaci\\u00f3n\", \"width\": 600, \"$schema\": \"https://vega.github.io/schema/vega-lite/v5.20.1.json\", \"datasets\": {\"data-bdb810cd5c709ae7d70a596dc85d2fba\": [{\"Variable1\": \"SCORE\", \"Variable2\": \"SCORE\", \"Correlation\": 1.0}, {\"Variable1\": \"ACTIVOSTOTALES\", \"Variable2\": \"SCORE\", \"Correlation\": -0.0007927467255437587}, {\"Variable1\": \"PASIVOSTOTALES\", \"Variable2\": \"SCORE\", \"Correlation\": -0.04999594168809016}, {\"Variable1\": \"INGRESOSANUALES\", \"Variable2\": \"SCORE\", \"Correlation\": -0.03609889997308204}, {\"Variable1\": \"EGRESOSANUALES\", \"Variable2\": \"SCORE\", \"Correlation\": -0.031772923072990025}, {\"Variable1\": \"CARGASFAMILIARES\", \"Variable2\": \"SCORE\", \"Correlation\": -0.013911344180150075}, {\"Variable1\": \"EDAD\", \"Variable2\": \"SCORE\", \"Correlation\": -0.00334937762598608}, {\"Variable1\": \"AHORROS\", \"Variable2\": \"SCORE\", \"Correlation\": 0.07333121895146306}, {\"Variable1\": \"DPFS\", \"Variable2\": \"SCORE\", \"Correlation\": 0.02785090059137457}, {\"Variable1\": \"DEUDASVIGENTES\", \"Variable2\": \"SCORE\", \"Correlation\": 0.031444777610171476}, {\"Variable1\": \"CUOTASTOTALESVIGENTES\", \"Variable2\": \"SCORE\", \"Correlation\": 0.07000302890422169}, {\"Variable1\": \"NUMPRESTVIGENTES\", \"Variable2\": \"SCORE\", \"Correlation\": 0.14370162237122314}, {\"Variable1\": \"MONTOPRESTAMO\", \"Variable2\": \"SCORE\", \"Correlation\": -0.0484848035917556}, {\"Variable1\": \"SALDOPRESTAMO\", \"Variable2\": \"SCORE\", \"Correlation\": 0.011764092365661971}, {\"Variable1\": \"NUMEROCUOTAS\", \"Variable2\": \"SCORE\", \"Correlation\": -0.05248824748688253}, {\"Variable1\": \"TEACONSEGURO\", \"Variable2\": \"SCORE\", \"Correlation\": -0.043013149928557926}, {\"Variable1\": \"TASAINTERES\", \"Variable2\": \"SCORE\", \"Correlation\": -0.036586390995533534}, {\"Variable1\": \"VALORPROMEDIOCUOTA\", \"Variable2\": \"SCORE\", \"Correlation\": -0.0029495844589872756}, {\"Variable1\": \"DIASMOROSIDAD\", \"Variable2\": \"SCORE\", \"Correlation\": -0.1623622309887349}, {\"Variable1\": \"NUMPRESTMORA\", \"Variable2\": \"SCORE\", \"Correlation\": -0.15533442763044733}, {\"Variable1\": \"ANIOSTRABAJO\", \"Variable2\": \"SCORE\", \"Correlation\": -0.00619463837625456}, {\"Variable1\": \"SCORE\", \"Variable2\": \"ACTIVOSTOTALES\", \"Correlation\": -0.0007927467255437587}, {\"Variable1\": \"ACTIVOSTOTALES\", \"Variable2\": \"ACTIVOSTOTALES\", \"Correlation\": 1.0}, {\"Variable1\": \"PASIVOSTOTALES\", \"Variable2\": \"ACTIVOSTOTALES\", \"Correlation\": 0.1033350253908122}, {\"Variable1\": \"INGRESOSANUALES\", \"Variable2\": \"ACTIVOSTOTALES\", \"Correlation\": 0.04452016651622268}, {\"Variable1\": \"EGRESOSANUALES\", \"Variable2\": \"ACTIVOSTOTALES\", \"Correlation\": 0.02282656844373251}, {\"Variable1\": \"CARGASFAMILIARES\", \"Variable2\": \"ACTIVOSTOTALES\", \"Correlation\": -0.005981185464735082}, {\"Variable1\": \"EDAD\", \"Variable2\": \"ACTIVOSTOTALES\", \"Correlation\": 0.028196738526383765}, {\"Variable1\": \"AHORROS\", \"Variable2\": \"ACTIVOSTOTALES\", \"Correlation\": 0.030004417625355634}, {\"Variable1\": \"DPFS\", \"Variable2\": \"ACTIVOSTOTALES\", \"Correlation\": 0.00469423690011568}, {\"Variable1\": \"DEUDASVIGENTES\", \"Variable2\": \"ACTIVOSTOTALES\", \"Correlation\": 0.12178253958502928}, {\"Variable1\": \"CUOTASTOTALESVIGENTES\", \"Variable2\": \"ACTIVOSTOTALES\", \"Correlation\": 0.007883420179014815}, {\"Variable1\": \"NUMPRESTVIGENTES\", \"Variable2\": \"ACTIVOSTOTALES\", \"Correlation\": 0.009683304469156965}, {\"Variable1\": \"MONTOPRESTAMO\", \"Variable2\": \"ACTIVOSTOTALES\", \"Correlation\": 0.07751846976754237}, {\"Variable1\": \"SALDOPRESTAMO\", \"Variable2\": \"ACTIVOSTOTALES\", \"Correlation\": 0.04329405176269199}, {\"Variable1\": \"NUMEROCUOTAS\", \"Variable2\": \"ACTIVOSTOTALES\", \"Correlation\": 0.01191407362692375}, {\"Variable1\": \"TEACONSEGURO\", \"Variable2\": \"ACTIVOSTOTALES\", \"Correlation\": -0.014438213729640121}, {\"Variable1\": \"TASAINTERES\", \"Variable2\": \"ACTIVOSTOTALES\", \"Correlation\": -0.013509664765422582}, {\"Variable1\": \"VALORPROMEDIOCUOTA\", \"Variable2\": \"ACTIVOSTOTALES\", \"Correlation\": 0.04644162455890157}, {\"Variable1\": \"DIASMOROSIDAD\", \"Variable2\": \"ACTIVOSTOTALES\", \"Correlation\": -0.0033196220778242656}, {\"Variable1\": \"NUMPRESTMORA\", \"Variable2\": \"ACTIVOSTOTALES\", \"Correlation\": -0.0006470996833803128}, {\"Variable1\": \"ANIOSTRABAJO\", \"Variable2\": \"ACTIVOSTOTALES\", \"Correlation\": 0.0041423114415371125}, {\"Variable1\": \"SCORE\", \"Variable2\": \"PASIVOSTOTALES\", \"Correlation\": -0.04999594168809016}, {\"Variable1\": \"ACTIVOSTOTALES\", \"Variable2\": \"PASIVOSTOTALES\", \"Correlation\": 0.1033350253908122}, {\"Variable1\": \"PASIVOSTOTALES\", \"Variable2\": \"PASIVOSTOTALES\", \"Correlation\": 1.0}, {\"Variable1\": \"INGRESOSANUALES\", \"Variable2\": \"PASIVOSTOTALES\", \"Correlation\": 0.4203128224775965}, {\"Variable1\": \"EGRESOSANUALES\", \"Variable2\": \"PASIVOSTOTALES\", \"Correlation\": 0.42696713494862754}, {\"Variable1\": \"CARGASFAMILIARES\", \"Variable2\": \"PASIVOSTOTALES\", \"Correlation\": 0.0897903162436321}, {\"Variable1\": \"EDAD\", \"Variable2\": \"PASIVOSTOTALES\", \"Correlation\": 0.03709306898135568}, {\"Variable1\": \"AHORROS\", \"Variable2\": \"PASIVOSTOTALES\", \"Correlation\": 0.09792669743083425}, {\"Variable1\": \"DPFS\", \"Variable2\": \"PASIVOSTOTALES\", \"Correlation\": -0.006199833470809294}, {\"Variable1\": \"DEUDASVIGENTES\", \"Variable2\": \"PASIVOSTOTALES\", \"Correlation\": 0.5184029299726466}, {\"Variable1\": \"CUOTASTOTALESVIGENTES\", \"Variable2\": \"PASIVOSTOTALES\", \"Correlation\": 0.27897446270844983}, {\"Variable1\": \"NUMPRESTVIGENTES\", \"Variable2\": \"PASIVOSTOTALES\", \"Correlation\": 0.15525808928694984}, {\"Variable1\": \"MONTOPRESTAMO\", \"Variable2\": \"PASIVOSTOTALES\", \"Correlation\": 0.4102250354775069}, {\"Variable1\": \"SALDOPRESTAMO\", \"Variable2\": \"PASIVOSTOTALES\", \"Correlation\": 0.19181453413568958}, {\"Variable1\": \"NUMEROCUOTAS\", \"Variable2\": \"PASIVOSTOTALES\", \"Correlation\": 0.18884916879944166}, {\"Variable1\": \"TEACONSEGURO\", \"Variable2\": \"PASIVOSTOTALES\", \"Correlation\": -0.09645470387019163}, {\"Variable1\": \"TASAINTERES\", \"Variable2\": \"PASIVOSTOTALES\", \"Correlation\": -0.09533064532511931}, {\"Variable1\": \"VALORPROMEDIOCUOTA\", \"Variable2\": \"PASIVOSTOTALES\", \"Correlation\": 0.21233053875049343}, {\"Variable1\": \"DIASMOROSIDAD\", \"Variable2\": \"PASIVOSTOTALES\", \"Correlation\": -0.0003794838538856305}, {\"Variable1\": \"NUMPRESTMORA\", \"Variable2\": \"PASIVOSTOTALES\", \"Correlation\": 0.14267847698542488}, {\"Variable1\": \"ANIOSTRABAJO\", \"Variable2\": \"PASIVOSTOTALES\", \"Correlation\": 0.03189941201112724}, {\"Variable1\": \"SCORE\", \"Variable2\": \"INGRESOSANUALES\", \"Correlation\": -0.03609889997308204}, {\"Variable1\": \"ACTIVOSTOTALES\", \"Variable2\": \"INGRESOSANUALES\", \"Correlation\": 0.04452016651622268}, {\"Variable1\": \"PASIVOSTOTALES\", \"Variable2\": \"INGRESOSANUALES\", \"Correlation\": 0.4203128224775965}, {\"Variable1\": \"INGRESOSANUALES\", \"Variable2\": \"INGRESOSANUALES\", \"Correlation\": 1.0}, {\"Variable1\": \"EGRESOSANUALES\", \"Variable2\": \"INGRESOSANUALES\", \"Correlation\": 0.655818371806743}, {\"Variable1\": \"CARGASFAMILIARES\", \"Variable2\": \"INGRESOSANUALES\", \"Correlation\": 0.030973725817505633}, {\"Variable1\": \"EDAD\", \"Variable2\": \"INGRESOSANUALES\", \"Correlation\": 0.022973053789617125}, {\"Variable1\": \"AHORROS\", \"Variable2\": \"INGRESOSANUALES\", \"Correlation\": 0.12232922414811875}, {\"Variable1\": \"DPFS\", \"Variable2\": \"INGRESOSANUALES\", \"Correlation\": 0.007607586438324069}, {\"Variable1\": \"DEUDASVIGENTES\", \"Variable2\": \"INGRESOSANUALES\", \"Correlation\": 0.3140101269894182}, {\"Variable1\": \"CUOTASTOTALESVIGENTES\", \"Variable2\": \"INGRESOSANUALES\", \"Correlation\": 0.10324456336045826}, {\"Variable1\": \"NUMPRESTVIGENTES\", \"Variable2\": \"INGRESOSANUALES\", \"Correlation\": 0.101811814482864}, {\"Variable1\": \"MONTOPRESTAMO\", \"Variable2\": \"INGRESOSANUALES\", \"Correlation\": 0.26436698760205335}, {\"Variable1\": \"SALDOPRESTAMO\", \"Variable2\": \"INGRESOSANUALES\", \"Correlation\": 0.12045359206310363}, {\"Variable1\": \"NUMEROCUOTAS\", \"Variable2\": \"INGRESOSANUALES\", \"Correlation\": 0.05540404269875985}, {\"Variable1\": \"TEACONSEGURO\", \"Variable2\": \"INGRESOSANUALES\", \"Correlation\": -0.020438737755641256}, {\"Variable1\": \"TASAINTERES\", \"Variable2\": \"INGRESOSANUALES\", \"Correlation\": -0.017873272308009117}, {\"Variable1\": \"VALORPROMEDIOCUOTA\", \"Variable2\": \"INGRESOSANUALES\", \"Correlation\": 0.1734442772157872}, {\"Variable1\": \"DIASMOROSIDAD\", \"Variable2\": \"INGRESOSANUALES\", \"Correlation\": 0.0029997376437063913}, {\"Variable1\": \"NUMPRESTMORA\", \"Variable2\": \"INGRESOSANUALES\", \"Correlation\": 0.06650324407440963}, {\"Variable1\": \"ANIOSTRABAJO\", \"Variable2\": \"INGRESOSANUALES\", \"Correlation\": 0.066160914567583}, {\"Variable1\": \"SCORE\", \"Variable2\": \"EGRESOSANUALES\", \"Correlation\": -0.031772923072990025}, {\"Variable1\": \"ACTIVOSTOTALES\", \"Variable2\": \"EGRESOSANUALES\", \"Correlation\": 0.02282656844373251}, {\"Variable1\": \"PASIVOSTOTALES\", \"Variable2\": \"EGRESOSANUALES\", \"Correlation\": 0.42696713494862754}, {\"Variable1\": \"INGRESOSANUALES\", \"Variable2\": \"EGRESOSANUALES\", \"Correlation\": 0.655818371806743}, {\"Variable1\": \"EGRESOSANUALES\", \"Variable2\": \"EGRESOSANUALES\", \"Correlation\": 1.0}, {\"Variable1\": \"CARGASFAMILIARES\", \"Variable2\": \"EGRESOSANUALES\", \"Correlation\": 0.030237756928458287}, {\"Variable1\": \"EDAD\", \"Variable2\": \"EGRESOSANUALES\", \"Correlation\": 0.02296576652096989}, {\"Variable1\": \"AHORROS\", \"Variable2\": \"EGRESOSANUALES\", \"Correlation\": 0.08937742845721107}, {\"Variable1\": \"DPFS\", \"Variable2\": \"EGRESOSANUALES\", \"Correlation\": -0.001051780956854174}, {\"Variable1\": \"DEUDASVIGENTES\", \"Variable2\": \"EGRESOSANUALES\", \"Correlation\": 0.2630998792483151}, {\"Variable1\": \"CUOTASTOTALESVIGENTES\", \"Variable2\": \"EGRESOSANUALES\", \"Correlation\": 0.11953022888361386}, {\"Variable1\": \"NUMPRESTVIGENTES\", \"Variable2\": \"EGRESOSANUALES\", \"Correlation\": 0.10288508861900153}, {\"Variable1\": \"MONTOPRESTAMO\", \"Variable2\": \"EGRESOSANUALES\", \"Correlation\": 0.2103048996893565}, {\"Variable1\": \"SALDOPRESTAMO\", \"Variable2\": \"EGRESOSANUALES\", \"Correlation\": 0.1020244328150621}, {\"Variable1\": \"NUMEROCUOTAS\", \"Variable2\": \"EGRESOSANUALES\", \"Correlation\": 0.0640225750201293}, {\"Variable1\": \"TEACONSEGURO\", \"Variable2\": \"EGRESOSANUALES\", \"Correlation\": -0.02007381660916269}, {\"Variable1\": \"TASAINTERES\", \"Variable2\": \"EGRESOSANUALES\", \"Correlation\": -0.02266785623112898}, {\"Variable1\": \"VALORPROMEDIOCUOTA\", \"Variable2\": \"EGRESOSANUALES\", \"Correlation\": 0.12608040889224686}, {\"Variable1\": \"DIASMOROSIDAD\", \"Variable2\": \"EGRESOSANUALES\", \"Correlation\": 0.0016831276536993602}, {\"Variable1\": \"NUMPRESTMORA\", \"Variable2\": \"EGRESOSANUALES\", \"Correlation\": 0.06644963159177612}, {\"Variable1\": \"ANIOSTRABAJO\", \"Variable2\": \"EGRESOSANUALES\", \"Correlation\": 0.03832243305083388}, {\"Variable1\": \"SCORE\", \"Variable2\": \"CARGASFAMILIARES\", \"Correlation\": -0.013911344180150075}, {\"Variable1\": \"ACTIVOSTOTALES\", \"Variable2\": \"CARGASFAMILIARES\", \"Correlation\": -0.005981185464735082}, {\"Variable1\": \"PASIVOSTOTALES\", \"Variable2\": \"CARGASFAMILIARES\", \"Correlation\": 0.0897903162436321}, {\"Variable1\": \"INGRESOSANUALES\", \"Variable2\": \"CARGASFAMILIARES\", \"Correlation\": 0.030973725817505633}, {\"Variable1\": \"EGRESOSANUALES\", \"Variable2\": \"CARGASFAMILIARES\", \"Correlation\": 0.030237756928458287}, {\"Variable1\": \"CARGASFAMILIARES\", \"Variable2\": \"CARGASFAMILIARES\", \"Correlation\": 1.0}, {\"Variable1\": \"EDAD\", \"Variable2\": \"CARGASFAMILIARES\", \"Correlation\": -0.2284391226350684}, {\"Variable1\": \"AHORROS\", \"Variable2\": \"CARGASFAMILIARES\", \"Correlation\": 0.004018961293792068}, {\"Variable1\": \"DPFS\", \"Variable2\": \"CARGASFAMILIARES\", \"Correlation\": -0.03854619468702955}, {\"Variable1\": \"DEUDASVIGENTES\", \"Variable2\": \"CARGASFAMILIARES\", \"Correlation\": 0.07949749647777418}, {\"Variable1\": \"CUOTASTOTALESVIGENTES\", \"Variable2\": \"CARGASFAMILIARES\", \"Correlation\": 0.05167039357387746}, {\"Variable1\": \"NUMPRESTVIGENTES\", \"Variable2\": \"CARGASFAMILIARES\", \"Correlation\": 0.00490009895115444}, {\"Variable1\": \"MONTOPRESTAMO\", \"Variable2\": \"CARGASFAMILIARES\", \"Correlation\": 0.06420468132410573}, {\"Variable1\": \"SALDOPRESTAMO\", \"Variable2\": \"CARGASFAMILIARES\", \"Correlation\": 0.022571628233685855}, {\"Variable1\": \"NUMEROCUOTAS\", \"Variable2\": \"CARGASFAMILIARES\", \"Correlation\": 0.05684393084156671}, {\"Variable1\": \"TEACONSEGURO\", \"Variable2\": \"CARGASFAMILIARES\", \"Correlation\": 0.014344764933584565}, {\"Variable1\": \"TASAINTERES\", \"Variable2\": \"CARGASFAMILIARES\", \"Correlation\": 0.009664496427030779}, {\"Variable1\": \"VALORPROMEDIOCUOTA\", \"Variable2\": \"CARGASFAMILIARES\", \"Correlation\": -0.008505381266296724}, {\"Variable1\": \"DIASMOROSIDAD\", \"Variable2\": \"CARGASFAMILIARES\", \"Correlation\": -0.0036423103346450076}, {\"Variable1\": \"NUMPRESTMORA\", \"Variable2\": \"CARGASFAMILIARES\", \"Correlation\": 0.015411308980688761}, {\"Variable1\": \"ANIOSTRABAJO\", \"Variable2\": \"CARGASFAMILIARES\", \"Correlation\": -0.05887592950319672}, {\"Variable1\": \"SCORE\", \"Variable2\": \"EDAD\", \"Correlation\": -0.00334937762598608}, {\"Variable1\": \"ACTIVOSTOTALES\", \"Variable2\": \"EDAD\", \"Correlation\": 0.028196738526383765}, {\"Variable1\": \"PASIVOSTOTALES\", \"Variable2\": \"EDAD\", \"Correlation\": 0.03709306898135568}, {\"Variable1\": \"INGRESOSANUALES\", \"Variable2\": \"EDAD\", \"Correlation\": 0.022973053789617125}, {\"Variable1\": \"EGRESOSANUALES\", \"Variable2\": \"EDAD\", \"Correlation\": 0.02296576652096989}, {\"Variable1\": \"CARGASFAMILIARES\", \"Variable2\": \"EDAD\", \"Correlation\": -0.2284391226350684}, {\"Variable1\": \"EDAD\", \"Variable2\": \"EDAD\", \"Correlation\": 1.0}, {\"Variable1\": \"AHORROS\", \"Variable2\": \"EDAD\", \"Correlation\": 0.033565452957581614}, {\"Variable1\": \"DPFS\", \"Variable2\": \"EDAD\", \"Correlation\": 0.07854000130128368}, {\"Variable1\": \"DEUDASVIGENTES\", \"Variable2\": \"EDAD\", \"Correlation\": -0.008309935823203128}, {\"Variable1\": \"CUOTASTOTALESVIGENTES\", \"Variable2\": \"EDAD\", \"Correlation\": -0.052120220117543234}, {\"Variable1\": \"NUMPRESTVIGENTES\", \"Variable2\": \"EDAD\", \"Correlation\": -0.06491238170851547}, {\"Variable1\": \"MONTOPRESTAMO\", \"Variable2\": \"EDAD\", \"Correlation\": 0.04369962462844237}, {\"Variable1\": \"SALDOPRESTAMO\", \"Variable2\": \"EDAD\", \"Correlation\": -0.041940997662962554}, {\"Variable1\": \"NUMEROCUOTAS\", \"Variable2\": \"EDAD\", \"Correlation\": -0.032362174980151294}, {\"Variable1\": \"TEACONSEGURO\", \"Variable2\": \"EDAD\", \"Correlation\": 0.03019491939067238}, {\"Variable1\": \"TASAINTERES\", \"Variable2\": \"EDAD\", \"Correlation\": 0.03985602193069563}, {\"Variable1\": \"VALORPROMEDIOCUOTA\", \"Variable2\": \"EDAD\", \"Correlation\": 0.05245170156566335}, {\"Variable1\": \"DIASMOROSIDAD\", \"Variable2\": \"EDAD\", \"Correlation\": -0.03358207359370432}, {\"Variable1\": \"NUMPRESTMORA\", \"Variable2\": \"EDAD\", \"Correlation\": -0.06082781267527338}, {\"Variable1\": \"ANIOSTRABAJO\", \"Variable2\": \"EDAD\", \"Correlation\": 0.41630768158073106}, {\"Variable1\": \"SCORE\", \"Variable2\": \"AHORROS\", \"Correlation\": 0.07333121895146306}, {\"Variable1\": \"ACTIVOSTOTALES\", \"Variable2\": \"AHORROS\", \"Correlation\": 0.030004417625355634}, {\"Variable1\": \"PASIVOSTOTALES\", \"Variable2\": \"AHORROS\", \"Correlation\": 0.09792669743083425}, {\"Variable1\": \"INGRESOSANUALES\", \"Variable2\": \"AHORROS\", \"Correlation\": 0.12232922414811875}, {\"Variable1\": \"EGRESOSANUALES\", \"Variable2\": \"AHORROS\", \"Correlation\": 0.08937742845721107}, {\"Variable1\": \"CARGASFAMILIARES\", \"Variable2\": \"AHORROS\", \"Correlation\": 0.004018961293792068}, {\"Variable1\": \"EDAD\", \"Variable2\": \"AHORROS\", \"Correlation\": 0.033565452957581614}, {\"Variable1\": \"AHORROS\", \"Variable2\": \"AHORROS\", \"Correlation\": 1.0}, {\"Variable1\": \"DPFS\", \"Variable2\": \"AHORROS\", \"Correlation\": 0.07850096002366289}, {\"Variable1\": \"DEUDASVIGENTES\", \"Variable2\": \"AHORROS\", \"Correlation\": 0.2746416224506516}, {\"Variable1\": \"CUOTASTOTALESVIGENTES\", \"Variable2\": \"AHORROS\", \"Correlation\": 0.15788089329778243}, {\"Variable1\": \"NUMPRESTVIGENTES\", \"Variable2\": \"AHORROS\", \"Correlation\": 0.14986192233802634}, {\"Variable1\": \"MONTOPRESTAMO\", \"Variable2\": \"AHORROS\", \"Correlation\": 0.16543695420052001}, {\"Variable1\": \"SALDOPRESTAMO\", \"Variable2\": \"AHORROS\", \"Correlation\": 0.11286089122466245}, {\"Variable1\": \"NUMEROCUOTAS\", \"Variable2\": \"AHORROS\", \"Correlation\": 0.06474758127768752}, {\"Variable1\": \"TEACONSEGURO\", \"Variable2\": \"AHORROS\", \"Correlation\": -0.04689552540687395}, {\"Variable1\": \"TASAINTERES\", \"Variable2\": \"AHORROS\", \"Correlation\": -0.050546543363029016}, {\"Variable1\": \"VALORPROMEDIOCUOTA\", \"Variable2\": \"AHORROS\", \"Correlation\": 0.07819867695502902}, {\"Variable1\": \"DIASMOROSIDAD\", \"Variable2\": \"AHORROS\", \"Correlation\": -0.0403174470432455}, {\"Variable1\": \"NUMPRESTMORA\", \"Variable2\": \"AHORROS\", \"Correlation\": -0.05455878038084302}, {\"Variable1\": \"ANIOSTRABAJO\", \"Variable2\": \"AHORROS\", \"Correlation\": 0.0320075689401956}, {\"Variable1\": \"SCORE\", \"Variable2\": \"DPFS\", \"Correlation\": 0.02785090059137457}, {\"Variable1\": \"ACTIVOSTOTALES\", \"Variable2\": \"DPFS\", \"Correlation\": 0.00469423690011568}, {\"Variable1\": \"PASIVOSTOTALES\", \"Variable2\": \"DPFS\", \"Correlation\": -0.006199833470809294}, {\"Variable1\": \"INGRESOSANUALES\", \"Variable2\": \"DPFS\", \"Correlation\": 0.007607586438324069}, {\"Variable1\": \"EGRESOSANUALES\", \"Variable2\": \"DPFS\", \"Correlation\": -0.001051780956854174}, {\"Variable1\": \"CARGASFAMILIARES\", \"Variable2\": \"DPFS\", \"Correlation\": -0.03854619468702955}, {\"Variable1\": \"EDAD\", \"Variable2\": \"DPFS\", \"Correlation\": 0.07854000130128368}, {\"Variable1\": \"AHORROS\", \"Variable2\": \"DPFS\", \"Correlation\": 0.07850096002366289}, {\"Variable1\": \"DPFS\", \"Variable2\": \"DPFS\", \"Correlation\": 1.0}, {\"Variable1\": \"DEUDASVIGENTES\", \"Variable2\": \"DPFS\", \"Correlation\": 0.005581601386739932}, {\"Variable1\": \"CUOTASTOTALESVIGENTES\", \"Variable2\": \"DPFS\", \"Correlation\": -0.021846767451843354}, {\"Variable1\": \"NUMPRESTVIGENTES\", \"Variable2\": \"DPFS\", \"Correlation\": 0.01856250298456934}, {\"Variable1\": \"MONTOPRESTAMO\", \"Variable2\": \"DPFS\", \"Correlation\": 0.007799168941967298}, {\"Variable1\": \"SALDOPRESTAMO\", \"Variable2\": \"DPFS\", \"Correlation\": -0.012635850914641067}, {\"Variable1\": \"NUMEROCUOTAS\", \"Variable2\": \"DPFS\", \"Correlation\": -0.039313597836869725}, {\"Variable1\": \"TEACONSEGURO\", \"Variable2\": \"DPFS\", \"Correlation\": -0.057911156229448625}, {\"Variable1\": \"TASAINTERES\", \"Variable2\": \"DPFS\", \"Correlation\": -0.05111070958383954}, {\"Variable1\": \"VALORPROMEDIOCUOTA\", \"Variable2\": \"DPFS\", \"Correlation\": 0.0813227468867282}, {\"Variable1\": \"DIASMOROSIDAD\", \"Variable2\": \"DPFS\", \"Correlation\": -0.01553293148602268}, {\"Variable1\": \"NUMPRESTMORA\", \"Variable2\": \"DPFS\", \"Correlation\": -0.03666839776387111}, {\"Variable1\": \"ANIOSTRABAJO\", \"Variable2\": \"DPFS\", \"Correlation\": 0.030911859260771852}, {\"Variable1\": \"SCORE\", \"Variable2\": \"DEUDASVIGENTES\", \"Correlation\": 0.031444777610171476}, {\"Variable1\": \"ACTIVOSTOTALES\", \"Variable2\": \"DEUDASVIGENTES\", \"Correlation\": 0.12178253958502928}, {\"Variable1\": \"PASIVOSTOTALES\", \"Variable2\": \"DEUDASVIGENTES\", \"Correlation\": 0.5184029299726466}, {\"Variable1\": \"INGRESOSANUALES\", \"Variable2\": \"DEUDASVIGENTES\", \"Correlation\": 0.3140101269894182}, {\"Variable1\": \"EGRESOSANUALES\", \"Variable2\": \"DEUDASVIGENTES\", \"Correlation\": 0.2630998792483151}, {\"Variable1\": \"CARGASFAMILIARES\", \"Variable2\": \"DEUDASVIGENTES\", \"Correlation\": 0.07949749647777418}, {\"Variable1\": \"EDAD\", \"Variable2\": \"DEUDASVIGENTES\", \"Correlation\": -0.008309935823203128}, {\"Variable1\": \"AHORROS\", \"Variable2\": \"DEUDASVIGENTES\", \"Correlation\": 0.2746416224506516}, {\"Variable1\": \"DPFS\", \"Variable2\": \"DEUDASVIGENTES\", \"Correlation\": 0.005581601386739932}, {\"Variable1\": \"DEUDASVIGENTES\", \"Variable2\": \"DEUDASVIGENTES\", \"Correlation\": 1.0}, {\"Variable1\": \"CUOTASTOTALESVIGENTES\", \"Variable2\": \"DEUDASVIGENTES\", \"Correlation\": 0.7009956990188657}, {\"Variable1\": \"NUMPRESTVIGENTES\", \"Variable2\": \"DEUDASVIGENTES\", \"Correlation\": 0.4898890914718177}, {\"Variable1\": \"MONTOPRESTAMO\", \"Variable2\": \"DEUDASVIGENTES\", \"Correlation\": 0.5838074015632435}, {\"Variable1\": \"SALDOPRESTAMO\", \"Variable2\": \"DEUDASVIGENTES\", \"Correlation\": 0.4261136000417468}, {\"Variable1\": \"NUMEROCUOTAS\", \"Variable2\": \"DEUDASVIGENTES\", \"Correlation\": 0.337741980763656}, {\"Variable1\": \"TEACONSEGURO\", \"Variable2\": \"DEUDASVIGENTES\", \"Correlation\": -0.14800107803121673}, {\"Variable1\": \"TASAINTERES\", \"Variable2\": \"DEUDASVIGENTES\", \"Correlation\": -0.15634526936394239}, {\"Variable1\": \"VALORPROMEDIOCUOTA\", \"Variable2\": \"DEUDASVIGENTES\", \"Correlation\": 0.15588855976565094}, {\"Variable1\": \"DIASMOROSIDAD\", \"Variable2\": \"DEUDASVIGENTES\", \"Correlation\": -0.0118833034594395}, {\"Variable1\": \"NUMPRESTMORA\", \"Variable2\": \"DEUDASVIGENTES\", \"Correlation\": 0.21521241998528814}, {\"Variable1\": \"ANIOSTRABAJO\", \"Variable2\": \"DEUDASVIGENTES\", \"Correlation\": 0.017982647498150484}, {\"Variable1\": \"SCORE\", \"Variable2\": \"CUOTASTOTALESVIGENTES\", \"Correlation\": 0.07000302890422169}, {\"Variable1\": \"ACTIVOSTOTALES\", \"Variable2\": \"CUOTASTOTALESVIGENTES\", \"Correlation\": 0.007883420179014815}, {\"Variable1\": \"PASIVOSTOTALES\", \"Variable2\": \"CUOTASTOTALESVIGENTES\", \"Correlation\": 0.27897446270844983}, {\"Variable1\": \"INGRESOSANUALES\", \"Variable2\": \"CUOTASTOTALESVIGENTES\", \"Correlation\": 0.10324456336045826}, {\"Variable1\": \"EGRESOSANUALES\", \"Variable2\": \"CUOTASTOTALESVIGENTES\", \"Correlation\": 0.11953022888361386}, {\"Variable1\": \"CARGASFAMILIARES\", \"Variable2\": \"CUOTASTOTALESVIGENTES\", \"Correlation\": 0.05167039357387746}, {\"Variable1\": \"EDAD\", \"Variable2\": \"CUOTASTOTALESVIGENTES\", \"Correlation\": -0.052120220117543234}, {\"Variable1\": \"AHORROS\", \"Variable2\": \"CUOTASTOTALESVIGENTES\", \"Correlation\": 0.15788089329778243}, {\"Variable1\": \"DPFS\", \"Variable2\": \"CUOTASTOTALESVIGENTES\", \"Correlation\": -0.021846767451843354}, {\"Variable1\": \"DEUDASVIGENTES\", \"Variable2\": \"CUOTASTOTALESVIGENTES\", \"Correlation\": 0.7009956990188657}, {\"Variable1\": \"CUOTASTOTALESVIGENTES\", \"Variable2\": \"CUOTASTOTALESVIGENTES\", \"Correlation\": 1.0}, {\"Variable1\": \"NUMPRESTVIGENTES\", \"Variable2\": \"CUOTASTOTALESVIGENTES\", \"Correlation\": 0.6290962042845276}, {\"Variable1\": \"MONTOPRESTAMO\", \"Variable2\": \"CUOTASTOTALESVIGENTES\", \"Correlation\": 0.34389613239534145}, {\"Variable1\": \"SALDOPRESTAMO\", \"Variable2\": \"CUOTASTOTALESVIGENTES\", \"Correlation\": 0.3441613450008309}, {\"Variable1\": \"NUMEROCUOTAS\", \"Variable2\": \"CUOTASTOTALESVIGENTES\", \"Correlation\": 0.48488334671566446}, {\"Variable1\": \"TEACONSEGURO\", \"Variable2\": \"CUOTASTOTALESVIGENTES\", \"Correlation\": -0.1683117798210152}, {\"Variable1\": \"TASAINTERES\", \"Variable2\": \"CUOTASTOTALESVIGENTES\", \"Correlation\": -0.19544935133978814}, {\"Variable1\": \"VALORPROMEDIOCUOTA\", \"Variable2\": \"CUOTASTOTALESVIGENTES\", \"Correlation\": -0.039953872648426696}, {\"Variable1\": \"DIASMOROSIDAD\", \"Variable2\": \"CUOTASTOTALESVIGENTES\", \"Correlation\": 0.008591901924025263}, {\"Variable1\": \"NUMPRESTMORA\", \"Variable2\": \"CUOTASTOTALESVIGENTES\", \"Correlation\": 0.27820284572869863}, {\"Variable1\": \"ANIOSTRABAJO\", \"Variable2\": \"CUOTASTOTALESVIGENTES\", \"Correlation\": -0.04049245541480968}, {\"Variable1\": \"SCORE\", \"Variable2\": \"NUMPRESTVIGENTES\", \"Correlation\": 0.14370162237122314}, {\"Variable1\": \"ACTIVOSTOTALES\", \"Variable2\": \"NUMPRESTVIGENTES\", \"Correlation\": 0.009683304469156965}, {\"Variable1\": \"PASIVOSTOTALES\", \"Variable2\": \"NUMPRESTVIGENTES\", \"Correlation\": 0.15525808928694984}, {\"Variable1\": \"INGRESOSANUALES\", \"Variable2\": \"NUMPRESTVIGENTES\", \"Correlation\": 0.101811814482864}, {\"Variable1\": \"EGRESOSANUALES\", \"Variable2\": \"NUMPRESTVIGENTES\", \"Correlation\": 0.10288508861900153}, {\"Variable1\": \"CARGASFAMILIARES\", \"Variable2\": \"NUMPRESTVIGENTES\", \"Correlation\": 0.00490009895115444}, {\"Variable1\": \"EDAD\", \"Variable2\": \"NUMPRESTVIGENTES\", \"Correlation\": -0.06491238170851547}, {\"Variable1\": \"AHORROS\", \"Variable2\": \"NUMPRESTVIGENTES\", \"Correlation\": 0.14986192233802634}, {\"Variable1\": \"DPFS\", \"Variable2\": \"NUMPRESTVIGENTES\", \"Correlation\": 0.01856250298456934}, {\"Variable1\": \"DEUDASVIGENTES\", \"Variable2\": \"NUMPRESTVIGENTES\", \"Correlation\": 0.4898890914718177}, {\"Variable1\": \"CUOTASTOTALESVIGENTES\", \"Variable2\": \"NUMPRESTVIGENTES\", \"Correlation\": 0.6290962042845276}, {\"Variable1\": \"NUMPRESTVIGENTES\", \"Variable2\": \"NUMPRESTVIGENTES\", \"Correlation\": 1.0}, {\"Variable1\": \"MONTOPRESTAMO\", \"Variable2\": \"NUMPRESTVIGENTES\", \"Correlation\": 0.1258802490349275}, {\"Variable1\": \"SALDOPRESTAMO\", \"Variable2\": \"NUMPRESTVIGENTES\", \"Correlation\": 0.19019601296354488}, {\"Variable1\": \"NUMEROCUOTAS\", \"Variable2\": \"NUMPRESTVIGENTES\", \"Correlation\": 0.10536167034755753}, {\"Variable1\": \"TEACONSEGURO\", \"Variable2\": \"NUMPRESTVIGENTES\", \"Correlation\": -0.11585416839731953}, {\"Variable1\": \"TASAINTERES\", \"Variable2\": \"NUMPRESTVIGENTES\", \"Correlation\": -0.10684954701790378}, {\"Variable1\": \"VALORPROMEDIOCUOTA\", \"Variable2\": \"NUMPRESTVIGENTES\", \"Correlation\": 0.07199126794249026}, {\"Variable1\": \"DIASMOROSIDAD\", \"Variable2\": \"NUMPRESTVIGENTES\", \"Correlation\": 0.0031320187427958967}, {\"Variable1\": \"NUMPRESTMORA\", \"Variable2\": \"NUMPRESTVIGENTES\", \"Correlation\": 0.19893494848914337}, {\"Variable1\": \"ANIOSTRABAJO\", \"Variable2\": \"NUMPRESTVIGENTES\", \"Correlation\": -0.017872986419734047}, {\"Variable1\": \"SCORE\", \"Variable2\": \"MONTOPRESTAMO\", \"Correlation\": -0.0484848035917556}, {\"Variable1\": \"ACTIVOSTOTALES\", \"Variable2\": \"MONTOPRESTAMO\", \"Correlation\": 0.07751846976754237}, {\"Variable1\": \"PASIVOSTOTALES\", \"Variable2\": \"MONTOPRESTAMO\", \"Correlation\": 0.4102250354775069}, {\"Variable1\": \"INGRESOSANUALES\", \"Variable2\": \"MONTOPRESTAMO\", \"Correlation\": 0.26436698760205335}, {\"Variable1\": \"EGRESOSANUALES\", \"Variable2\": \"MONTOPRESTAMO\", \"Correlation\": 0.2103048996893565}, {\"Variable1\": \"CARGASFAMILIARES\", \"Variable2\": \"MONTOPRESTAMO\", \"Correlation\": 0.06420468132410573}, {\"Variable1\": \"EDAD\", \"Variable2\": \"MONTOPRESTAMO\", \"Correlation\": 0.04369962462844237}, {\"Variable1\": \"AHORROS\", \"Variable2\": \"MONTOPRESTAMO\", \"Correlation\": 0.16543695420052001}, {\"Variable1\": \"DPFS\", \"Variable2\": \"MONTOPRESTAMO\", \"Correlation\": 0.007799168941967298}, {\"Variable1\": \"DEUDASVIGENTES\", \"Variable2\": \"MONTOPRESTAMO\", \"Correlation\": 0.5838074015632435}, {\"Variable1\": \"CUOTASTOTALESVIGENTES\", \"Variable2\": \"MONTOPRESTAMO\", \"Correlation\": 0.34389613239534145}, {\"Variable1\": \"NUMPRESTVIGENTES\", \"Variable2\": \"MONTOPRESTAMO\", \"Correlation\": 0.1258802490349275}, {\"Variable1\": \"MONTOPRESTAMO\", \"Variable2\": \"MONTOPRESTAMO\", \"Correlation\": 1.0}, {\"Variable1\": \"SALDOPRESTAMO\", \"Variable2\": \"MONTOPRESTAMO\", \"Correlation\": 0.6479818474387254}, {\"Variable1\": \"NUMEROCUOTAS\", \"Variable2\": \"MONTOPRESTAMO\", \"Correlation\": 0.6406396280009125}, {\"Variable1\": \"TEACONSEGURO\", \"Variable2\": \"MONTOPRESTAMO\", \"Correlation\": -0.25767714922417667}, {\"Variable1\": \"TASAINTERES\", \"Variable2\": \"MONTOPRESTAMO\", \"Correlation\": -0.28245455919170503}, {\"Variable1\": \"VALORPROMEDIOCUOTA\", \"Variable2\": \"MONTOPRESTAMO\", \"Correlation\": 0.18418158357445077}, {\"Variable1\": \"DIASMOROSIDAD\", \"Variable2\": \"MONTOPRESTAMO\", \"Correlation\": 0.029337393139998936}, {\"Variable1\": \"NUMPRESTMORA\", \"Variable2\": \"MONTOPRESTAMO\", \"Correlation\": 0.11566689719752501}, {\"Variable1\": \"ANIOSTRABAJO\", \"Variable2\": \"MONTOPRESTAMO\", \"Correlation\": 0.04079272848002623}, {\"Variable1\": \"SCORE\", \"Variable2\": \"SALDOPRESTAMO\", \"Correlation\": 0.011764092365661971}, {\"Variable1\": \"ACTIVOSTOTALES\", \"Variable2\": \"SALDOPRESTAMO\", \"Correlation\": 0.04329405176269199}, {\"Variable1\": \"PASIVOSTOTALES\", \"Variable2\": \"SALDOPRESTAMO\", \"Correlation\": 0.19181453413568958}, {\"Variable1\": \"INGRESOSANUALES\", \"Variable2\": \"SALDOPRESTAMO\", \"Correlation\": 0.12045359206310363}, {\"Variable1\": \"EGRESOSANUALES\", \"Variable2\": \"SALDOPRESTAMO\", \"Correlation\": 0.1020244328150621}, {\"Variable1\": \"CARGASFAMILIARES\", \"Variable2\": \"SALDOPRESTAMO\", \"Correlation\": 0.022571628233685855}, {\"Variable1\": \"EDAD\", \"Variable2\": \"SALDOPRESTAMO\", \"Correlation\": -0.041940997662962554}, {\"Variable1\": \"AHORROS\", \"Variable2\": \"SALDOPRESTAMO\", \"Correlation\": 0.11286089122466245}, {\"Variable1\": \"DPFS\", \"Variable2\": \"SALDOPRESTAMO\", \"Correlation\": -0.012635850914641067}, {\"Variable1\": \"DEUDASVIGENTES\", \"Variable2\": \"SALDOPRESTAMO\", \"Correlation\": 0.4261136000417468}, {\"Variable1\": \"CUOTASTOTALESVIGENTES\", \"Variable2\": \"SALDOPRESTAMO\", \"Correlation\": 0.3441613450008309}, {\"Variable1\": \"NUMPRESTVIGENTES\", \"Variable2\": \"SALDOPRESTAMO\", \"Correlation\": 0.19019601296354488}, {\"Variable1\": \"MONTOPRESTAMO\", \"Variable2\": \"SALDOPRESTAMO\", \"Correlation\": 0.6479818474387254}, {\"Variable1\": \"SALDOPRESTAMO\", \"Variable2\": \"SALDOPRESTAMO\", \"Correlation\": 1.0}, {\"Variable1\": \"NUMEROCUOTAS\", \"Variable2\": \"SALDOPRESTAMO\", \"Correlation\": 0.4879382328226062}, {\"Variable1\": \"TEACONSEGURO\", \"Variable2\": \"SALDOPRESTAMO\", \"Correlation\": -0.16109265039947757}, {\"Variable1\": \"TASAINTERES\", \"Variable2\": \"SALDOPRESTAMO\", \"Correlation\": -0.1708412304357397}, {\"Variable1\": \"VALORPROMEDIOCUOTA\", \"Variable2\": \"SALDOPRESTAMO\", \"Correlation\": 0.07245284892474939}, {\"Variable1\": \"DIASMOROSIDAD\", \"Variable2\": \"SALDOPRESTAMO\", \"Correlation\": 0.09816809862735741}, {\"Variable1\": \"NUMPRESTMORA\", \"Variable2\": \"SALDOPRESTAMO\", \"Correlation\": 0.12504489235569377}, {\"Variable1\": \"ANIOSTRABAJO\", \"Variable2\": \"SALDOPRESTAMO\", \"Correlation\": -0.0224698022380088}, {\"Variable1\": \"SCORE\", \"Variable2\": \"NUMEROCUOTAS\", \"Correlation\": -0.05248824748688253}, {\"Variable1\": \"ACTIVOSTOTALES\", \"Variable2\": \"NUMEROCUOTAS\", \"Correlation\": 0.01191407362692375}, {\"Variable1\": \"PASIVOSTOTALES\", \"Variable2\": \"NUMEROCUOTAS\", \"Correlation\": 0.18884916879944166}, {\"Variable1\": \"INGRESOSANUALES\", \"Variable2\": \"NUMEROCUOTAS\", \"Correlation\": 0.05540404269875985}, {\"Variable1\": \"EGRESOSANUALES\", \"Variable2\": \"NUMEROCUOTAS\", \"Correlation\": 0.0640225750201293}, {\"Variable1\": \"CARGASFAMILIARES\", \"Variable2\": \"NUMEROCUOTAS\", \"Correlation\": 0.05684393084156671}, {\"Variable1\": \"EDAD\", \"Variable2\": \"NUMEROCUOTAS\", \"Correlation\": -0.032362174980151294}, {\"Variable1\": \"AHORROS\", \"Variable2\": \"NUMEROCUOTAS\", \"Correlation\": 0.06474758127768752}, {\"Variable1\": \"DPFS\", \"Variable2\": \"NUMEROCUOTAS\", \"Correlation\": -0.039313597836869725}, {\"Variable1\": \"DEUDASVIGENTES\", \"Variable2\": \"NUMEROCUOTAS\", \"Correlation\": 0.337741980763656}, {\"Variable1\": \"CUOTASTOTALESVIGENTES\", \"Variable2\": \"NUMEROCUOTAS\", \"Correlation\": 0.48488334671566446}, {\"Variable1\": \"NUMPRESTVIGENTES\", \"Variable2\": \"NUMEROCUOTAS\", \"Correlation\": 0.10536167034755753}, {\"Variable1\": \"MONTOPRESTAMO\", \"Variable2\": \"NUMEROCUOTAS\", \"Correlation\": 0.6406396280009125}, {\"Variable1\": \"SALDOPRESTAMO\", \"Variable2\": \"NUMEROCUOTAS\", \"Correlation\": 0.4879382328226062}, {\"Variable1\": \"NUMEROCUOTAS\", \"Variable2\": \"NUMEROCUOTAS\", \"Correlation\": 1.0}, {\"Variable1\": \"TEACONSEGURO\", \"Variable2\": \"NUMEROCUOTAS\", \"Correlation\": -0.2558235859288678}, {\"Variable1\": \"TASAINTERES\", \"Variable2\": \"NUMEROCUOTAS\", \"Correlation\": -0.3227786787501523}, {\"Variable1\": \"VALORPROMEDIOCUOTA\", \"Variable2\": \"NUMEROCUOTAS\", \"Correlation\": -0.19120308037048064}, {\"Variable1\": \"DIASMOROSIDAD\", \"Variable2\": \"NUMEROCUOTAS\", \"Correlation\": 0.0646312994057601}, {\"Variable1\": \"NUMPRESTMORA\", \"Variable2\": \"NUMEROCUOTAS\", \"Correlation\": 0.1443166672257587}, {\"Variable1\": \"ANIOSTRABAJO\", \"Variable2\": \"NUMEROCUOTAS\", \"Correlation\": -0.04426323165823499}, {\"Variable1\": \"SCORE\", \"Variable2\": \"TEACONSEGURO\", \"Correlation\": -0.043013149928557926}, {\"Variable1\": \"ACTIVOSTOTALES\", \"Variable2\": \"TEACONSEGURO\", \"Correlation\": -0.014438213729640121}, {\"Variable1\": \"PASIVOSTOTALES\", \"Variable2\": \"TEACONSEGURO\", \"Correlation\": -0.09645470387019163}, {\"Variable1\": \"INGRESOSANUALES\", \"Variable2\": \"TEACONSEGURO\", \"Correlation\": -0.020438737755641256}, {\"Variable1\": \"EGRESOSANUALES\", \"Variable2\": \"TEACONSEGURO\", \"Correlation\": -0.02007381660916269}, {\"Variable1\": \"CARGASFAMILIARES\", \"Variable2\": \"TEACONSEGURO\", \"Correlation\": 0.014344764933584565}, {\"Variable1\": \"EDAD\", \"Variable2\": \"TEACONSEGURO\", \"Correlation\": 0.03019491939067238}, {\"Variable1\": \"AHORROS\", \"Variable2\": \"TEACONSEGURO\", \"Correlation\": -0.04689552540687395}, {\"Variable1\": \"DPFS\", \"Variable2\": \"TEACONSEGURO\", \"Correlation\": -0.057911156229448625}, {\"Variable1\": \"DEUDASVIGENTES\", \"Variable2\": \"TEACONSEGURO\", \"Correlation\": -0.14800107803121673}, {\"Variable1\": \"CUOTASTOTALESVIGENTES\", \"Variable2\": \"TEACONSEGURO\", \"Correlation\": -0.1683117798210152}, {\"Variable1\": \"NUMPRESTVIGENTES\", \"Variable2\": \"TEACONSEGURO\", \"Correlation\": -0.11585416839731953}, {\"Variable1\": \"MONTOPRESTAMO\", \"Variable2\": \"TEACONSEGURO\", \"Correlation\": -0.25767714922417667}, {\"Variable1\": \"SALDOPRESTAMO\", \"Variable2\": \"TEACONSEGURO\", \"Correlation\": -0.16109265039947757}, {\"Variable1\": \"NUMEROCUOTAS\", \"Variable2\": \"TEACONSEGURO\", \"Correlation\": -0.2558235859288678}, {\"Variable1\": \"TEACONSEGURO\", \"Variable2\": \"TEACONSEGURO\", \"Correlation\": 1.0}, {\"Variable1\": \"TASAINTERES\", \"Variable2\": \"TEACONSEGURO\", \"Correlation\": 0.9838179058514314}, {\"Variable1\": \"VALORPROMEDIOCUOTA\", \"Variable2\": \"TEACONSEGURO\", \"Correlation\": -0.12986409705457708}, {\"Variable1\": \"DIASMOROSIDAD\", \"Variable2\": \"TEACONSEGURO\", \"Correlation\": 0.0019372842846894103}, {\"Variable1\": \"NUMPRESTMORA\", \"Variable2\": \"TEACONSEGURO\", \"Correlation\": -0.013961453997656364}, {\"Variable1\": \"ANIOSTRABAJO\", \"Variable2\": \"TEACONSEGURO\", \"Correlation\": 0.055886034542866184}, {\"Variable1\": \"SCORE\", \"Variable2\": \"TASAINTERES\", \"Correlation\": -0.036586390995533534}, {\"Variable1\": \"ACTIVOSTOTALES\", \"Variable2\": \"TASAINTERES\", \"Correlation\": -0.013509664765422582}, {\"Variable1\": \"PASIVOSTOTALES\", \"Variable2\": \"TASAINTERES\", \"Correlation\": -0.09533064532511931}, {\"Variable1\": \"INGRESOSANUALES\", \"Variable2\": \"TASAINTERES\", \"Correlation\": -0.017873272308009117}, {\"Variable1\": \"EGRESOSANUALES\", \"Variable2\": \"TASAINTERES\", \"Correlation\": -0.02266785623112898}, {\"Variable1\": \"CARGASFAMILIARES\", \"Variable2\": \"TASAINTERES\", \"Correlation\": 0.009664496427030779}, {\"Variable1\": \"EDAD\", \"Variable2\": \"TASAINTERES\", \"Correlation\": 0.03985602193069563}, {\"Variable1\": \"AHORROS\", \"Variable2\": \"TASAINTERES\", \"Correlation\": -0.050546543363029016}, {\"Variable1\": \"DPFS\", \"Variable2\": \"TASAINTERES\", \"Correlation\": -0.05111070958383954}, {\"Variable1\": \"DEUDASVIGENTES\", \"Variable2\": \"TASAINTERES\", \"Correlation\": -0.15634526936394239}, {\"Variable1\": \"CUOTASTOTALESVIGENTES\", \"Variable2\": \"TASAINTERES\", \"Correlation\": -0.19544935133978814}, {\"Variable1\": \"NUMPRESTVIGENTES\", \"Variable2\": \"TASAINTERES\", \"Correlation\": -0.10684954701790378}, {\"Variable1\": \"MONTOPRESTAMO\", \"Variable2\": \"TASAINTERES\", \"Correlation\": -0.28245455919170503}, {\"Variable1\": \"SALDOPRESTAMO\", \"Variable2\": \"TASAINTERES\", \"Correlation\": -0.1708412304357397}, {\"Variable1\": \"NUMEROCUOTAS\", \"Variable2\": \"TASAINTERES\", \"Correlation\": -0.3227786787501523}, {\"Variable1\": \"TEACONSEGURO\", \"Variable2\": \"TASAINTERES\", \"Correlation\": 0.9838179058514314}, {\"Variable1\": \"TASAINTERES\", \"Variable2\": \"TASAINTERES\", \"Correlation\": 1.0}, {\"Variable1\": \"VALORPROMEDIOCUOTA\", \"Variable2\": \"TASAINTERES\", \"Correlation\": -0.07551952953350086}, {\"Variable1\": \"DIASMOROSIDAD\", \"Variable2\": \"TASAINTERES\", \"Correlation\": -0.005203026603244899}, {\"Variable1\": \"NUMPRESTMORA\", \"Variable2\": \"TASAINTERES\", \"Correlation\": -0.024059459706538836}, {\"Variable1\": \"ANIOSTRABAJO\", \"Variable2\": \"TASAINTERES\", \"Correlation\": 0.06678546378121668}, {\"Variable1\": \"SCORE\", \"Variable2\": \"VALORPROMEDIOCUOTA\", \"Correlation\": -0.0029495844589872756}, {\"Variable1\": \"ACTIVOSTOTALES\", \"Variable2\": \"VALORPROMEDIOCUOTA\", \"Correlation\": 0.04644162455890157}, {\"Variable1\": \"PASIVOSTOTALES\", \"Variable2\": \"VALORPROMEDIOCUOTA\", \"Correlation\": 0.21233053875049343}, {\"Variable1\": \"INGRESOSANUALES\", \"Variable2\": \"VALORPROMEDIOCUOTA\", \"Correlation\": 0.1734442772157872}, {\"Variable1\": \"EGRESOSANUALES\", \"Variable2\": \"VALORPROMEDIOCUOTA\", \"Correlation\": 0.12608040889224686}, {\"Variable1\": \"CARGASFAMILIARES\", \"Variable2\": \"VALORPROMEDIOCUOTA\", \"Correlation\": -0.008505381266296724}, {\"Variable1\": \"EDAD\", \"Variable2\": \"VALORPROMEDIOCUOTA\", \"Correlation\": 0.05245170156566335}, {\"Variable1\": \"AHORROS\", \"Variable2\": \"VALORPROMEDIOCUOTA\", \"Correlation\": 0.07819867695502902}, {\"Variable1\": \"DPFS\", \"Variable2\": \"VALORPROMEDIOCUOTA\", \"Correlation\": 0.0813227468867282}, {\"Variable1\": \"DEUDASVIGENTES\", \"Variable2\": \"VALORPROMEDIOCUOTA\", \"Correlation\": 0.15588855976565094}, {\"Variable1\": \"CUOTASTOTALESVIGENTES\", \"Variable2\": \"VALORPROMEDIOCUOTA\", \"Correlation\": -0.039953872648426696}, {\"Variable1\": \"NUMPRESTVIGENTES\", \"Variable2\": \"VALORPROMEDIOCUOTA\", \"Correlation\": 0.07199126794249026}, {\"Variable1\": \"MONTOPRESTAMO\", \"Variable2\": \"VALORPROMEDIOCUOTA\", \"Correlation\": 0.18418158357445077}, {\"Variable1\": \"SALDOPRESTAMO\", \"Variable2\": \"VALORPROMEDIOCUOTA\", \"Correlation\": 0.07245284892474939}, {\"Variable1\": \"NUMEROCUOTAS\", \"Variable2\": \"VALORPROMEDIOCUOTA\", \"Correlation\": -0.19120308037048064}, {\"Variable1\": \"TEACONSEGURO\", \"Variable2\": \"VALORPROMEDIOCUOTA\", \"Correlation\": -0.12986409705457708}, {\"Variable1\": \"TASAINTERES\", \"Variable2\": \"VALORPROMEDIOCUOTA\", \"Correlation\": -0.07551952953350086}, {\"Variable1\": \"VALORPROMEDIOCUOTA\", \"Variable2\": \"VALORPROMEDIOCUOTA\", \"Correlation\": 1.0}, {\"Variable1\": \"DIASMOROSIDAD\", \"Variable2\": \"VALORPROMEDIOCUOTA\", \"Correlation\": -0.005654934931385558}, {\"Variable1\": \"NUMPRESTMORA\", \"Variable2\": \"VALORPROMEDIOCUOTA\", \"Correlation\": 0.0019118548191249015}, {\"Variable1\": \"ANIOSTRABAJO\", \"Variable2\": \"VALORPROMEDIOCUOTA\", \"Correlation\": 0.05080031524016935}, {\"Variable1\": \"SCORE\", \"Variable2\": \"DIASMOROSIDAD\", \"Correlation\": -0.1623622309887349}, {\"Variable1\": \"ACTIVOSTOTALES\", \"Variable2\": \"DIASMOROSIDAD\", \"Correlation\": -0.0033196220778242656}, {\"Variable1\": \"PASIVOSTOTALES\", \"Variable2\": \"DIASMOROSIDAD\", \"Correlation\": -0.0003794838538856305}, {\"Variable1\": \"INGRESOSANUALES\", \"Variable2\": \"DIASMOROSIDAD\", \"Correlation\": 0.0029997376437063913}, {\"Variable1\": \"EGRESOSANUALES\", \"Variable2\": \"DIASMOROSIDAD\", \"Correlation\": 0.0016831276536993602}, {\"Variable1\": \"CARGASFAMILIARES\", \"Variable2\": \"DIASMOROSIDAD\", \"Correlation\": -0.0036423103346450076}, {\"Variable1\": \"EDAD\", \"Variable2\": \"DIASMOROSIDAD\", \"Correlation\": -0.03358207359370432}, {\"Variable1\": \"AHORROS\", \"Variable2\": \"DIASMOROSIDAD\", \"Correlation\": -0.0403174470432455}, {\"Variable1\": \"DPFS\", \"Variable2\": \"DIASMOROSIDAD\", \"Correlation\": -0.01553293148602268}, {\"Variable1\": \"DEUDASVIGENTES\", \"Variable2\": \"DIASMOROSIDAD\", \"Correlation\": -0.0118833034594395}, {\"Variable1\": \"CUOTASTOTALESVIGENTES\", \"Variable2\": \"DIASMOROSIDAD\", \"Correlation\": 0.008591901924025263}, {\"Variable1\": \"NUMPRESTVIGENTES\", \"Variable2\": \"DIASMOROSIDAD\", \"Correlation\": 0.0031320187427958967}, {\"Variable1\": \"MONTOPRESTAMO\", \"Variable2\": \"DIASMOROSIDAD\", \"Correlation\": 0.029337393139998936}, {\"Variable1\": \"SALDOPRESTAMO\", \"Variable2\": \"DIASMOROSIDAD\", \"Correlation\": 0.09816809862735741}, {\"Variable1\": \"NUMEROCUOTAS\", \"Variable2\": \"DIASMOROSIDAD\", \"Correlation\": 0.0646312994057601}, {\"Variable1\": \"TEACONSEGURO\", \"Variable2\": \"DIASMOROSIDAD\", \"Correlation\": 0.0019372842846894103}, {\"Variable1\": \"TASAINTERES\", \"Variable2\": \"DIASMOROSIDAD\", \"Correlation\": -0.005203026603244899}, {\"Variable1\": \"VALORPROMEDIOCUOTA\", \"Variable2\": \"DIASMOROSIDAD\", \"Correlation\": -0.005654934931385558}, {\"Variable1\": \"DIASMOROSIDAD\", \"Variable2\": \"DIASMOROSIDAD\", \"Correlation\": 1.0}, {\"Variable1\": \"NUMPRESTMORA\", \"Variable2\": \"DIASMOROSIDAD\", \"Correlation\": 0.2580141359758036}, {\"Variable1\": \"ANIOSTRABAJO\", \"Variable2\": \"DIASMOROSIDAD\", \"Correlation\": -0.018271602856390554}, {\"Variable1\": \"SCORE\", \"Variable2\": \"NUMPRESTMORA\", \"Correlation\": -0.15533442763044733}, {\"Variable1\": \"ACTIVOSTOTALES\", \"Variable2\": \"NUMPRESTMORA\", \"Correlation\": -0.0006470996833803128}, {\"Variable1\": \"PASIVOSTOTALES\", \"Variable2\": \"NUMPRESTMORA\", \"Correlation\": 0.14267847698542488}, {\"Variable1\": \"INGRESOSANUALES\", \"Variable2\": \"NUMPRESTMORA\", \"Correlation\": 0.06650324407440963}, {\"Variable1\": \"EGRESOSANUALES\", \"Variable2\": \"NUMPRESTMORA\", \"Correlation\": 0.06644963159177612}, {\"Variable1\": \"CARGASFAMILIARES\", \"Variable2\": \"NUMPRESTMORA\", \"Correlation\": 0.015411308980688761}, {\"Variable1\": \"EDAD\", \"Variable2\": \"NUMPRESTMORA\", \"Correlation\": -0.06082781267527338}, {\"Variable1\": \"AHORROS\", \"Variable2\": \"NUMPRESTMORA\", \"Correlation\": -0.05455878038084302}, {\"Variable1\": \"DPFS\", \"Variable2\": \"NUMPRESTMORA\", \"Correlation\": -0.03666839776387111}, {\"Variable1\": \"DEUDASVIGENTES\", \"Variable2\": \"NUMPRESTMORA\", \"Correlation\": 0.21521241998528814}, {\"Variable1\": \"CUOTASTOTALESVIGENTES\", \"Variable2\": \"NUMPRESTMORA\", \"Correlation\": 0.27820284572869863}, {\"Variable1\": \"NUMPRESTVIGENTES\", \"Variable2\": \"NUMPRESTMORA\", \"Correlation\": 0.19893494848914337}, {\"Variable1\": \"MONTOPRESTAMO\", \"Variable2\": \"NUMPRESTMORA\", \"Correlation\": 0.11566689719752501}, {\"Variable1\": \"SALDOPRESTAMO\", \"Variable2\": \"NUMPRESTMORA\", \"Correlation\": 0.12504489235569377}, {\"Variable1\": \"NUMEROCUOTAS\", \"Variable2\": \"NUMPRESTMORA\", \"Correlation\": 0.1443166672257587}, {\"Variable1\": \"TEACONSEGURO\", \"Variable2\": \"NUMPRESTMORA\", \"Correlation\": -0.013961453997656364}, {\"Variable1\": \"TASAINTERES\", \"Variable2\": \"NUMPRESTMORA\", \"Correlation\": -0.024059459706538836}, {\"Variable1\": \"VALORPROMEDIOCUOTA\", \"Variable2\": \"NUMPRESTMORA\", \"Correlation\": 0.0019118548191249015}, {\"Variable1\": \"DIASMOROSIDAD\", \"Variable2\": \"NUMPRESTMORA\", \"Correlation\": 0.2580141359758036}, {\"Variable1\": \"NUMPRESTMORA\", \"Variable2\": \"NUMPRESTMORA\", \"Correlation\": 1.0}, {\"Variable1\": \"ANIOSTRABAJO\", \"Variable2\": \"NUMPRESTMORA\", \"Correlation\": -0.03527855100858618}, {\"Variable1\": \"SCORE\", \"Variable2\": \"ANIOSTRABAJO\", \"Correlation\": -0.00619463837625456}, {\"Variable1\": \"ACTIVOSTOTALES\", \"Variable2\": \"ANIOSTRABAJO\", \"Correlation\": 0.0041423114415371125}, {\"Variable1\": \"PASIVOSTOTALES\", \"Variable2\": \"ANIOSTRABAJO\", \"Correlation\": 0.03189941201112724}, {\"Variable1\": \"INGRESOSANUALES\", \"Variable2\": \"ANIOSTRABAJO\", \"Correlation\": 0.066160914567583}, {\"Variable1\": \"EGRESOSANUALES\", \"Variable2\": \"ANIOSTRABAJO\", \"Correlation\": 0.03832243305083388}, {\"Variable1\": \"CARGASFAMILIARES\", \"Variable2\": \"ANIOSTRABAJO\", \"Correlation\": -0.05887592950319672}, {\"Variable1\": \"EDAD\", \"Variable2\": \"ANIOSTRABAJO\", \"Correlation\": 0.41630768158073106}, {\"Variable1\": \"AHORROS\", \"Variable2\": \"ANIOSTRABAJO\", \"Correlation\": 0.0320075689401956}, {\"Variable1\": \"DPFS\", \"Variable2\": \"ANIOSTRABAJO\", \"Correlation\": 0.030911859260771852}, {\"Variable1\": \"DEUDASVIGENTES\", \"Variable2\": \"ANIOSTRABAJO\", \"Correlation\": 0.017982647498150484}, {\"Variable1\": \"CUOTASTOTALESVIGENTES\", \"Variable2\": \"ANIOSTRABAJO\", \"Correlation\": -0.04049245541480968}, {\"Variable1\": \"NUMPRESTVIGENTES\", \"Variable2\": \"ANIOSTRABAJO\", \"Correlation\": -0.017872986419734047}, {\"Variable1\": \"MONTOPRESTAMO\", \"Variable2\": \"ANIOSTRABAJO\", \"Correlation\": 0.04079272848002623}, {\"Variable1\": \"SALDOPRESTAMO\", \"Variable2\": \"ANIOSTRABAJO\", \"Correlation\": -0.0224698022380088}, {\"Variable1\": \"NUMEROCUOTAS\", \"Variable2\": \"ANIOSTRABAJO\", \"Correlation\": -0.04426323165823499}, {\"Variable1\": \"TEACONSEGURO\", \"Variable2\": \"ANIOSTRABAJO\", \"Correlation\": 0.055886034542866184}, {\"Variable1\": \"TASAINTERES\", \"Variable2\": \"ANIOSTRABAJO\", \"Correlation\": 0.06678546378121668}, {\"Variable1\": \"VALORPROMEDIOCUOTA\", \"Variable2\": \"ANIOSTRABAJO\", \"Correlation\": 0.05080031524016935}, {\"Variable1\": \"DIASMOROSIDAD\", \"Variable2\": \"ANIOSTRABAJO\", \"Correlation\": -0.018271602856390554}, {\"Variable1\": \"NUMPRESTMORA\", \"Variable2\": \"ANIOSTRABAJO\", \"Correlation\": -0.03527855100858618}, {\"Variable1\": \"ANIOSTRABAJO\", \"Variable2\": \"ANIOSTRABAJO\", \"Correlation\": 1.0}]}}, {\"mode\": \"vega-lite\"});\n",
       "</script>"
      ],
      "text/plain": [
       "alt.Chart(...)"
      ]
     },
     "execution_count": 22,
     "metadata": {},
     "output_type": "execute_result"
    }
   ],
   "source": [
    "# 21. Matriz de correlación de variables\n",
    "# Selección de columnas para la correlación\n",
    "columns_to_analyze = [\n",
    "    \"SCORE\", \"ACTIVOSTOTALES\", \"PASIVOSTOTALES\", \"INGRESOSANUALES\", \"EGRESOSANUALES\",\n",
    "    \"CARGASFAMILIARES\", \"EDAD\", \"AHORROS\", \"DPFS\", \"DEUDASVIGENTES\",\n",
    "    \"CUOTASTOTALESVIGENTES\", \"NUMPRESTVIGENTES\", \"MONTOPRESTAMO\", \"SALDOPRESTAMO\",\n",
    "    \"NUMEROCUOTAS\", \"TEACONSEGURO\", \"TASAINTERES\", \"VALORPROMEDIOCUOTA\", \n",
    "    \"DIASMOROSIDAD\", \"NUMPRESTMORA\", \"ANIOSTRABAJO\"\n",
    "]\n",
    "\n",
    "# Calcular la matriz de correlación\n",
    "correlation_matrix = df[columns_to_analyze].corr().reset_index().melt('index')\n",
    "correlation_matrix.columns = ['Variable1', 'Variable2', 'Correlation']\n",
    "\n",
    "# Crear el gráfico de calor en Altair\n",
    "heatmap = alt.Chart(correlation_matrix).mark_rect().encode(\n",
    "    x=alt.X('Variable1:O', title=None, sort=columns_to_analyze),\n",
    "    y=alt.Y('Variable2:O', title=None, sort=columns_to_analyze),\n",
    "    color=alt.Color('Correlation:Q', scale=alt.Scale(scheme='viridis'), title=\"Correlación\"),\n",
    "    tooltip=['Variable1', 'Variable2', 'Correlation']\n",
    ").properties(\n",
    "    width=600,\n",
    "    height=600,\n",
    "    title=\"Matriz de Correlación\"\n",
    ")\n",
    "\n",
    "# Mostrar el gráfico\n",
    "heatmap"
   ]
  }
 ],
 "metadata": {
  "accelerator": "TPU",
  "colab": {
   "gpuType": "V28",
   "provenance": []
  },
  "kernelspec": {
   "display_name": "Python 3",
   "name": "python3"
  },
  "language_info": {
   "codemirror_mode": {
    "name": "ipython",
    "version": 3
   },
   "file_extension": ".py",
   "mimetype": "text/x-python",
   "name": "python",
   "nbconvert_exporter": "python",
   "pygments_lexer": "ipython3",
   "version": "3.12.1"
  }
 },
 "nbformat": 4,
 "nbformat_minor": 0
}
